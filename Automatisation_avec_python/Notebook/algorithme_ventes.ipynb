{
 "cells": [
  {
   "cell_type": "markdown",
   "id": "9285959c",
   "metadata": {},
   "source": [
    "# Prérequis - Importation des bibliothèques"
   ]
  },
  {
   "cell_type": "code",
   "execution_count": null,
   "id": "97d5eb74",
   "metadata": {},
   "outputs": [],
   "source": [
    "#Ignorer les warnings\n",
    "import warnings\n",
    "warnings.filterwarnings(\"ignore\")\n",
    "\n",
    "import sys\n",
    "import os\n",
    "\n",
    "sys.path.append(os.path.abspath(\"..\"))\n"
   ]
  },
  {
   "cell_type": "code",
   "execution_count": null,
   "id": "9fb71419",
   "metadata": {},
   "outputs": [],
   "source": [
    "#Importation des différentes fonctions\n",
    "from src.utils import importer_fichier, extraire_infos, ask_validation\n",
    "from src.verification import verifier_integrite_donnees\n",
    "from src.transformation import transformation, case_uniformisation\n",
    "from src.exportation import output"
   ]
  },
  {
   "cell_type": "code",
   "execution_count": null,
   "id": "bea8b98e",
   "metadata": {},
   "outputs": [],
   "source": [
    "#Importation des librairies nécessaires\n",
    "import pandas as pd \n",
    "import numpy as np \n",
    "import csv\n",
    "import os\n",
    "import decimal\n"
   ]
  },
  {
   "cell_type": "code",
   "execution_count": null,
   "id": "960dc535",
   "metadata": {},
   "outputs": [],
   "source": [
    "decimal.getcontext().rounding = decimal.ROUND_HALF_EVEN\n"
   ]
  },
  {
   "cell_type": "markdown",
   "id": "d4f45f2a",
   "metadata": {},
   "source": [
    "# 2 - Importation des données"
   ]
  },
  {
   "cell_type": "markdown",
   "id": "256fe495",
   "metadata": {},
   "source": [
    "## 2.1 - Importation du fichier brut de l'enseigne"
   ]
  },
  {
   "cell_type": "code",
   "execution_count": null,
   "id": "485ffd2e",
   "metadata": {},
   "outputs": [],
   "source": [
    "fichier = importer_fichier()\n",
    "\n",
    "standardized_df_brut = pd.read_excel(fichier)"
   ]
  },
  {
   "cell_type": "markdown",
   "id": "a11a6f0a",
   "metadata": {},
   "source": [
    "## 2.2 - Initialisation de la variable enseigne & date"
   ]
  },
  {
   "cell_type": "code",
   "execution_count": null,
   "id": "fb10d61d",
   "metadata": {},
   "outputs": [],
   "source": [
    "#Fonction récupération des données du nom du fichier format AAMM - enseigne (AA == Année, MM == mois)\n",
    "nom_fichier = os.path.basename(fichier)\n",
    "\n",
    "date, enseigne = extraire_infos(nom_fichier)\n",
    "annee = date.split('/')[0]"
   ]
  },
  {
   "cell_type": "markdown",
   "id": "cbbe308e",
   "metadata": {},
   "source": [
    "## 2.3 - Importation des fichiers sharepoint (A MODIFIER AVEC L'URL DE VOS FICHIERS)"
   ]
  },
  {
   "cell_type": "code",
   "execution_count": null,
   "id": "4e7ebb2d",
   "metadata": {},
   "outputs": [],
   "source": [
    "#Lecture du fichiers ventes pour faire l'automatisation de l'index\n",
    "table_article = pd.read_excel(r\"data\\input\\Table articles.xlsx\")\n",
    "\n",
    "table_magasin = pd.read_excel(r\"data\\input\\Table magasins.xlsx\")"
   ]
  },
  {
   "cell_type": "markdown",
   "id": "ed4be2db",
   "metadata": {},
   "source": [
    "# 3 - Exploration des données"
   ]
  },
  {
   "cell_type": "code",
   "execution_count": null,
   "id": "687358f3",
   "metadata": {},
   "outputs": [],
   "source": [
    "#Visualisation des données\n",
    "standardized_df_brut.head()"
   ]
  },
  {
   "cell_type": "code",
   "execution_count": null,
   "id": "c83b89bd",
   "metadata": {},
   "outputs": [],
   "source": [
    "standardized_df_brut.columns"
   ]
  },
  {
   "cell_type": "code",
   "execution_count": null,
   "id": "c4af0144",
   "metadata": {},
   "outputs": [],
   "source": [
    "standardized_df_brut.dtypes"
   ]
  },
  {
   "cell_type": "markdown",
   "id": "0d2dba66",
   "metadata": {},
   "source": [
    "# 4 - Transformation des données"
   ]
  },
  {
   "cell_type": "code",
   "execution_count": null,
   "id": "c6ed6aa0",
   "metadata": {},
   "outputs": [],
   "source": [
    "pd.set_option('display.max_columns', None)\n"
   ]
  },
  {
   "cell_type": "markdown",
   "id": "44832f41",
   "metadata": {},
   "source": [
    "## 4.1 - Nettoyage des données brutes"
   ]
  },
  {
   "cell_type": "code",
   "execution_count": null,
   "id": "40b21402",
   "metadata": {},
   "outputs": [],
   "source": [
    "#Bricorama en dehors de la fonction puisque nécessite l'importation d'un fichier tiers.\n",
    "if enseigne != 'bricorama' :\n",
    "    df_clean, standardized_df_brut = transformation(standardized_df_brut, table_article, table_magasin, enseigne, date)\n",
    "else :\n",
    "    deleted_columns = ['CODE table_article ', ' CODE table_article FRN ',' LIBELLE table_article ', ' SUPPRIME ', ' PCB ', ' DN ', ' PRIX ACHAT ', ' CA HT N-1 ', ' EVOL CA % ',\n",
    "        ' QTE VENTE N-1 ', ' QTE COMMANDE ', ' QTE ACHATS ', ' VAL ACHATS ',' TAUX VENTE ', ' ROTATION ', ' COUVERTURE ', ' QTE STK ', ' VAL STK '] #'Unnamed: 21'\n",
    "            \n",
    "        # Suppression de la ligne totaux à la fin\n",
    "    standardized_df_brut.dropna(subset=[\" QTE VENTE \"], inplace=True)\n",
    "    standardized_df_brut.drop(standardized_df_brut[(standardized_df_brut[' CODE EAN '] == \" TOTAUX \")].index,inplace = True)\n",
    "    standardized_df_brut.drop(standardized_df_brut[(standardized_df_brut['CODE table_article '] == \" TOTAUX \")].index,inplace = True)\n",
    "\n",
    "            #Permet de bien supprimer l'avant dernière ligne vide\n",
    "    standardized_df_brut = standardized_df_brut.applymap(lambda x: x.strip() if isinstance(x, str) else x)\n",
    "    standardized_df_brut.replace(\"\", np.nan, inplace=True)\n",
    "    standardized_df_brut.dropna(how='all', inplace=True)\n",
    "\n",
    "    df_clean = standardized_df_brut.copy()\n",
    "\n",
    "            #La transformation en str rajoute un \".O\" à la fin, on le supprime.\n",
    "    df_clean[' CODE EAN '] = df_clean[' CODE EAN '].astype(str)\n",
    "    df_clean[' CODE EAN '] = df_clean[' CODE EAN '].str.replace('.0','')\n",
    "\n",
    "            #Permet d'éviter les doublons lors du merge\n",
    "    df_clean = df_clean.drop(columns=deleted_columns)\n",
    "    df_clean = df_clean.groupby(' CODE EAN ').sum().reset_index()\n",
    "\n",
    "    data_last_month = None\n",
    "            \n",
    "    if date[5:7] != '01':\n",
    "        fichier_mois_dernier = importer_fichier()\n",
    "    \n",
    "        data_last_month = pd.read_excel(fichier_mois_dernier)\n",
    "\n",
    "        data_last_month.dropna(subset=[\" QTE VENTE \"], inplace=True)\n",
    "        data_last_month.drop(data_last_month[(data_last_month['CODE table_article '] == \" TOTAUX \")].index,inplace = True)\n",
    "\n",
    "        #Permet de bien supprimer l'avant dernière ligne vide\n",
    "        data_last_month = data_last_month.applymap(lambda x: x.strip() if isinstance(x, str) else x)\n",
    "        data_last_month.replace(\"\", np.nan, inplace=True)\n",
    "        data_last_month.dropna(how='all', inplace=True)\n",
    "    \n",
    "        data_last_month[' CODE EAN ']= data_last_month[' CODE EAN '].astype(str)\n",
    "        data_last_month[' CODE EAN '] = data_last_month[' CODE EAN '].str.replace('.0','')\n",
    "\n",
    "        #Permet d'éviter les doublons lors du merge\n",
    "        data_last_month = data_last_month.drop(columns=deleted_columns)\n",
    "        data_last_month = data_last_month.groupby(' CODE EAN ').sum().reset_index()\n",
    "\n",
    "    "
   ]
  },
  {
   "cell_type": "markdown",
   "id": "d4d14aef",
   "metadata": {},
   "source": [
    "## 4.2 - Verification : importation EAN | Code nielsen"
   ]
  },
  {
   "cell_type": "code",
   "execution_count": null,
   "id": "da8a7654",
   "metadata": {},
   "outputs": [],
   "source": [
    "masque_ean = pd.DataFrame()\n",
    "\n",
    "if 'EAN' in df_clean.columns:\n",
    "    masque_ean = df_clean[(df_clean['EAN'].astype(str).isin([\"0\", \"nan\", \"NaN\"])) | (df_clean['EAN'].isnull()) ]\n",
    "\n",
    "if not masque_ean.empty :\n",
    "    raise ValueError(\"GENCODE absents de la standardizedDfle table_article\")"
   ]
  },
  {
   "cell_type": "code",
   "execution_count": null,
   "id": "afd6e63c",
   "metadata": {},
   "outputs": [],
   "source": [
    "\n",
    "masque_nielsen = pd.DataFrame()\n",
    "\n",
    "if 'code nielsen' in df_clean.columns :\n",
    "    masque_nielsen = df_clean[(df_clean['code nielsen'].astype(str).isin([\"0\", \"nan\", \"NaN\"])) | (df_clean['code nielsen'].isnull()) ]\n",
    "\n",
    "if not masque_nielsen.empty :\n",
    "    raise ValueError(\"Magasins absents de la standardizedDfle table_magasin\")"
   ]
  },
  {
   "cell_type": "markdown",
   "id": "ebd2af6b",
   "metadata": {},
   "source": [
    "## 4.3 - Structuration des données dans une structure type"
   ]
  },
  {
   "cell_type": "code",
   "execution_count": null,
   "id": "99c1f22e",
   "metadata": {},
   "outputs": [],
   "source": [
    "if enseigne != \"bricorama\" :\n",
    "    merged_df = None\n",
    "    data_last_month = None\n",
    "\n",
    "standardized_df,standardized_df_aggregated = case_uniformisation(enseigne,df_clean,date,annee,data_last_month)"
   ]
  },
  {
   "cell_type": "code",
   "execution_count": null,
   "id": "797510af",
   "metadata": {},
   "outputs": [],
   "source": [
    "standardized_df['Gencode'] =  standardized_df['Gencode'].str.replace('.0','')\n",
    "\n",
    "#Formate la colonne date en DATE et non en STRING\n",
    "standardized_df['date'] = pd.to_datetime(standardized_df['date'],format='%Y/%m')\n",
    "standardized_df['date'] = standardized_df['date'].dt.strftime('%Y/%m/%d')\n",
    "\n",
    "standardized_df = standardized_df.drop(columns=['Code_article'], axis=1)"
   ]
  },
  {
   "cell_type": "code",
   "execution_count": null,
   "id": "ed86fbc0",
   "metadata": {},
   "outputs": [],
   "source": [
    "standardized_df.tail()"
   ]
  },
  {
   "cell_type": "code",
   "execution_count": null,
   "id": "f8e9317a",
   "metadata": {},
   "outputs": [],
   "source": [
    "#Reset l'index et insertion d'une colonne id\n",
    "if enseigne not in ['leroy','truffaut', 'leroy es', 'castorama', 'casto mois', 'vilmorin','leclerc'] :\n",
    "    standardized_df_aggregated.reset_index(inplace= True)\n",
    "    \n",
    "standardized_df_aggregated.insert(loc=0, column='id', value=np.random.randint(low=1, high=1000, size=len(standardized_df_aggregated)))"
   ]
  },
  {
   "cell_type": "code",
   "execution_count": null,
   "id": "14b3dec8",
   "metadata": {},
   "outputs": [],
   "source": [
    "#Formatage commun à toutes les enseignes\n",
    "#Transformation de la colonne df_clean en format df_clean et en format année/mois/jours\n",
    "\n",
    "standardized_df_aggregated['Gencode'] =  standardized_df_aggregated['Gencode'].str.replace('.0','')\n",
    "\n",
    "standardized_df_aggregated['date'] = pd.to_datetime(standardized_df_aggregated['date'],format='%Y/%m')        \n",
    "standardized_df_aggregated['date'] = standardized_df_aggregated['date'].dt.strftime('%Y/%m/%d')"
   ]
  },
  {
   "cell_type": "code",
   "execution_count": null,
   "id": "ce3d7525",
   "metadata": {},
   "outputs": [],
   "source": [
    "standardized_df_aggregated.head(2)"
   ]
  },
  {
   "cell_type": "code",
   "execution_count": null,
   "id": "c9aaa950",
   "metadata": {},
   "outputs": [],
   "source": [
    "standardized_df_aggregated.tail(2)"
   ]
  },
  {
   "cell_type": "code",
   "execution_count": null,
   "id": "f83266e4",
   "metadata": {},
   "outputs": [],
   "source": [
    "standardized_df.head(2)"
   ]
  },
  {
   "cell_type": "markdown",
   "id": "17a25064",
   "metadata": {},
   "source": [
    "## 4.3 - Vérification : Intégrité des données"
   ]
  },
  {
   "cell_type": "code",
   "execution_count": null,
   "id": "db83b5d6",
   "metadata": {},
   "outputs": [],
   "source": [
    "volume, valeur, erreur = verifier_integrite_donnees(standardized_df_aggregated, standardized_df, standardized_df_brut, enseigne, date, annee, merged_df)\n",
    "\n",
    "if erreur:\n",
    "    raise SystemExit(\"Arrêt du programme suite à incohérence des données.\")"
   ]
  },
  {
   "cell_type": "markdown",
   "id": "1374cce7",
   "metadata": {},
   "source": [
    "## 4.5 - Vérification finale"
   ]
  },
  {
   "cell_type": "code",
   "execution_count": null,
   "id": "db54b7f5",
   "metadata": {},
   "outputs": [],
   "source": [
    "standardized_df_aggregated.head()"
   ]
  },
  {
   "cell_type": "code",
   "execution_count": null,
   "id": "f49e41e0",
   "metadata": {},
   "outputs": [],
   "source": [
    "#Vérification de tail pour vérifier les magasins avec du Ecommerce\n",
    "standardized_df_aggregated.tail()"
   ]
  },
  {
   "cell_type": "code",
   "execution_count": null,
   "id": "b5c75193",
   "metadata": {},
   "outputs": [],
   "source": [
    "standardized_df.tail()"
   ]
  },
  {
   "cell_type": "markdown",
   "id": "9ec3fb5d",
   "metadata": {},
   "source": [
    "# 5 - Exportation des données en fichier CSV"
   ]
  },
  {
   "cell_type": "markdown",
   "id": "8dc987e9",
   "metadata": {},
   "source": [
    "## 5.1 - Exportation du fichier df_clean.csv (df_clean agrégée)"
   ]
  },
  {
   "cell_type": "code",
   "execution_count": null,
   "id": "1eb79b2b",
   "metadata": {},
   "outputs": [],
   "source": [
    "# Exportation Rajoute sur un fichier existant (mode : append), sans le nom des colonnes (header)\n",
    "#rajout des quote pour les str (gencode) pour éviter les effacements de formats\n",
    "os.chdir(os.path.abspath(r\"chemin_du_dossier\"))\n",
    "\n",
    "valide = ''\n",
    "\n",
    "valide = ask_validation(enseigne, date, volume, valeur)\n",
    "print(valide)\n",
    "file = r'data\\output\\data.csv'\n",
    "mode = \"a\" #a = ajouter à la suite, W pour écraser le fichier existant\n",
    "\n",
    "if os.path.isfile(file):\n",
    "    header = False\n",
    "else:\n",
    "    header = True"
   ]
  },
  {
   "cell_type": "code",
   "execution_count": null,
   "id": "ff5602b5",
   "metadata": {},
   "outputs": [],
   "source": [
    "if valide == \"Oui\" :\n",
    "    \n",
    "    standardized_df_aggregated.to_csv('data\\output\\data.csv', index = False, mode = mode, header = header, sep = ';',decimal = \",\",quoting=csv.QUOTE_NONNUMERIC)\n",
    "    print(\"Fichier aggrégé modifié\")\n",
    "\n",
    "elif valide.capitalize() == \"Test\" :\n",
    "    \n",
    "    standardized_df_aggregated.to_csv(r\"data\\output\\verification.csv\", index = False, mode = 'w', header = True, sep = ';',decimal = \",\",quoting=csv.QUOTE_NONNUMERIC)\n",
    "    \n",
    "    print(\"Fichier de vérification créé\")\n",
    "    \n",
    "else : print(\"Processus annulé\")"
   ]
  },
  {
   "cell_type": "markdown",
   "id": "ef46df92",
   "metadata": {},
   "source": [
    "## 5.2 - Exportation du fichier enseigne"
   ]
  },
  {
   "cell_type": "code",
   "execution_count": null,
   "id": "8ec9f216",
   "metadata": {},
   "outputs": [],
   "source": [
    "if valide == \"Oui\" :\n",
    "    output(enseigne,standardized_df)\n",
    "\n",
    "elif valide.capitalize() == \"Test\" :\n",
    "    print(\"Fichier de vérification crée à la première étape\")   \n",
    "    \n",
    "else :\n",
    "       print(\"Processus annulé\")"
   ]
  }
 ],
 "metadata": {
  "kernelspec": {
   "display_name": ".VENV",
   "language": "python",
   "name": "python3"
  },
  "language_info": {
   "codemirror_mode": {
    "name": "ipython",
    "version": 3
   },
   "file_extension": ".py",
   "mimetype": "text/x-python",
   "name": "python",
   "nbconvert_exporter": "python",
   "pygments_lexer": "ipython3",
   "version": "3.12.10"
  }
 },
 "nbformat": 4,
 "nbformat_minor": 5
}
